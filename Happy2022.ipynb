{
 "cells": [
  {
   "cell_type": "code",
   "execution_count": 1,
   "id": "5167d577-bd02-4c13-9594-0f1254d0d057",
   "metadata": {
    "tags": []
   },
   "outputs": [],
   "source": [
    "import pandas as pd\n",
    "import matplotlib.pyplot as plt"
   ]
  },
  {
   "cell_type": "code",
   "execution_count": 2,
   "id": "c5d46d87-2b1f-4e95-af99-7e99e4de6029",
   "metadata": {
    "tags": []
   },
   "outputs": [
    {
     "data": {
      "text/html": [
       "<div>\n",
       "<style scoped>\n",
       "    .dataframe tbody tr th:only-of-type {\n",
       "        vertical-align: middle;\n",
       "    }\n",
       "\n",
       "    .dataframe tbody tr th {\n",
       "        vertical-align: top;\n",
       "    }\n",
       "\n",
       "    .dataframe thead th {\n",
       "        text-align: right;\n",
       "    }\n",
       "</style>\n",
       "<table border=\"1\" class=\"dataframe\">\n",
       "  <thead>\n",
       "    <tr style=\"text-align: right;\">\n",
       "      <th></th>\n",
       "      <th>RANK</th>\n",
       "      <th>Country</th>\n",
       "      <th>Happiness score</th>\n",
       "      <th>Whisker-high</th>\n",
       "      <th>Whisker-low</th>\n",
       "      <th>Dystopia (1.83) + residual</th>\n",
       "      <th>Explained by: GDP per capita</th>\n",
       "      <th>Explained by: Social support</th>\n",
       "      <th>Explained by: Healthy life expectancy</th>\n",
       "      <th>Explained by: Freedom to make life choices</th>\n",
       "      <th>Explained by: Generosity</th>\n",
       "      <th>Explained by: Perceptions of corruption</th>\n",
       "    </tr>\n",
       "  </thead>\n",
       "  <tbody>\n",
       "    <tr>\n",
       "      <th>0</th>\n",
       "      <td>1</td>\n",
       "      <td>Finland</td>\n",
       "      <td>7,821</td>\n",
       "      <td>7,886</td>\n",
       "      <td>7,756</td>\n",
       "      <td>2,518</td>\n",
       "      <td>1,892</td>\n",
       "      <td>1,258</td>\n",
       "      <td>0,775</td>\n",
       "      <td>0,736</td>\n",
       "      <td>0,109</td>\n",
       "      <td>0,534</td>\n",
       "    </tr>\n",
       "    <tr>\n",
       "      <th>1</th>\n",
       "      <td>2</td>\n",
       "      <td>Denmark</td>\n",
       "      <td>7,636</td>\n",
       "      <td>7,710</td>\n",
       "      <td>7,563</td>\n",
       "      <td>2,226</td>\n",
       "      <td>1,953</td>\n",
       "      <td>1,243</td>\n",
       "      <td>0,777</td>\n",
       "      <td>0,719</td>\n",
       "      <td>0,188</td>\n",
       "      <td>0,532</td>\n",
       "    </tr>\n",
       "    <tr>\n",
       "      <th>2</th>\n",
       "      <td>3</td>\n",
       "      <td>Iceland</td>\n",
       "      <td>7,557</td>\n",
       "      <td>7,651</td>\n",
       "      <td>7,464</td>\n",
       "      <td>2,320</td>\n",
       "      <td>1,936</td>\n",
       "      <td>1,320</td>\n",
       "      <td>0,803</td>\n",
       "      <td>0,718</td>\n",
       "      <td>0,270</td>\n",
       "      <td>0,191</td>\n",
       "    </tr>\n",
       "    <tr>\n",
       "      <th>3</th>\n",
       "      <td>4</td>\n",
       "      <td>Switzerland</td>\n",
       "      <td>7,512</td>\n",
       "      <td>7,586</td>\n",
       "      <td>7,437</td>\n",
       "      <td>2,153</td>\n",
       "      <td>2,026</td>\n",
       "      <td>1,226</td>\n",
       "      <td>0,822</td>\n",
       "      <td>0,677</td>\n",
       "      <td>0,147</td>\n",
       "      <td>0,461</td>\n",
       "    </tr>\n",
       "    <tr>\n",
       "      <th>4</th>\n",
       "      <td>5</td>\n",
       "      <td>Netherlands</td>\n",
       "      <td>7,415</td>\n",
       "      <td>7,471</td>\n",
       "      <td>7,359</td>\n",
       "      <td>2,137</td>\n",
       "      <td>1,945</td>\n",
       "      <td>1,206</td>\n",
       "      <td>0,787</td>\n",
       "      <td>0,651</td>\n",
       "      <td>0,271</td>\n",
       "      <td>0,419</td>\n",
       "    </tr>\n",
       "  </tbody>\n",
       "</table>\n",
       "</div>"
      ],
      "text/plain": [
       "   RANK      Country Happiness score Whisker-high Whisker-low  \\\n",
       "0     1      Finland           7,821        7,886       7,756   \n",
       "1     2      Denmark           7,636        7,710       7,563   \n",
       "2     3      Iceland           7,557        7,651       7,464   \n",
       "3     4  Switzerland           7,512        7,586       7,437   \n",
       "4     5  Netherlands           7,415        7,471       7,359   \n",
       "\n",
       "  Dystopia (1.83) + residual Explained by: GDP per capita  \\\n",
       "0                      2,518                        1,892   \n",
       "1                      2,226                        1,953   \n",
       "2                      2,320                        1,936   \n",
       "3                      2,153                        2,026   \n",
       "4                      2,137                        1,945   \n",
       "\n",
       "  Explained by: Social support Explained by: Healthy life expectancy  \\\n",
       "0                        1,258                                 0,775   \n",
       "1                        1,243                                 0,777   \n",
       "2                        1,320                                 0,803   \n",
       "3                        1,226                                 0,822   \n",
       "4                        1,206                                 0,787   \n",
       "\n",
       "  Explained by: Freedom to make life choices Explained by: Generosity  \\\n",
       "0                                      0,736                    0,109   \n",
       "1                                      0,719                    0,188   \n",
       "2                                      0,718                    0,270   \n",
       "3                                      0,677                    0,147   \n",
       "4                                      0,651                    0,271   \n",
       "\n",
       "  Explained by: Perceptions of corruption  \n",
       "0                                   0,534  \n",
       "1                                   0,532  \n",
       "2                                   0,191  \n",
       "3                                   0,461  \n",
       "4                                   0,419  "
      ]
     },
     "execution_count": 2,
     "metadata": {},
     "output_type": "execute_result"
    }
   ],
   "source": [
    "df = pd.read_csv('2022.csv', sep=',')\n",
    "df.head()"
   ]
  },
  {
   "cell_type": "code",
   "execution_count": 7,
   "id": "0d608170-351a-4b35-8cb7-ec8e4f320762",
   "metadata": {
    "tags": []
   },
   "outputs": [
    {
     "data": {
      "text/plain": [
       "(147, 12)"
      ]
     },
     "execution_count": 7,
     "metadata": {},
     "output_type": "execute_result"
    }
   ],
   "source": [
    "df.shape"
   ]
  },
  {
   "cell_type": "code",
   "execution_count": 8,
   "id": "c71eb8f0-7231-4577-b9e7-1d323314715d",
   "metadata": {
    "tags": []
   },
   "outputs": [
    {
     "data": {
      "text/plain": [
       "array(['Afghanistan', 'Albania', 'Algeria', 'Argentina', 'Armenia',\n",
       "       'Australia', 'Austria', 'Azerbaijan*', 'Bahrain', 'Bangladesh',\n",
       "       'Belarus*', 'Belgium', 'Benin', 'Bolivia',\n",
       "       'Bosnia and Herzegovina', 'Botswana*', 'Brazil', 'Bulgaria',\n",
       "       'Burkina Faso', 'Cambodia', 'Cameroon', 'Canada', 'Chad*', 'Chile',\n",
       "       'China', 'Colombia', 'Comoros*', 'Congo', 'Costa Rica', 'Croatia',\n",
       "       'Cyprus', 'Czechia', 'Denmark', 'Dominican Republic', 'Ecuador',\n",
       "       'Egypt', 'El Salvador', 'Estonia', 'Eswatini, Kingdom of*',\n",
       "       'Ethiopia', 'Finland', 'France', 'Gabon', 'Gambia*', 'Georgia',\n",
       "       'Germany', 'Ghana', 'Greece', 'Guatemala*', 'Guinea', 'Honduras',\n",
       "       'Hong Kong S.A.R. of China', 'Hungary', 'Iceland', 'India',\n",
       "       'Indonesia', 'Iran', 'Iraq', 'Ireland', 'Israel', 'Italy',\n",
       "       'Ivory Coast', 'Jamaica', 'Japan', 'Jordan', 'Kazakhstan', 'Kenya',\n",
       "       'Kosovo', 'Kuwait*', 'Kyrgyzstan', 'Laos', 'Latvia', 'Lebanon',\n",
       "       'Lesotho*', 'Liberia*', 'Libya*', 'Lithuania', 'Luxembourg*',\n",
       "       'Madagascar*', 'Malawi', 'Malaysia', 'Mali', 'Malta',\n",
       "       'Mauritania*', 'Mauritius', 'Mexico', 'Moldova', 'Mongolia',\n",
       "       'Montenegro', 'Morocco', 'Mozambique', 'Myanmar', 'Namibia',\n",
       "       'Nepal', 'Netherlands', 'New Zealand', 'Nicaragua', 'Niger*',\n",
       "       'Nigeria', 'North Cyprus*', 'North Macedonia', 'Norway',\n",
       "       'Pakistan', 'Palestinian Territories*', 'Panama', 'Paraguay',\n",
       "       'Peru', 'Philippines', 'Poland', 'Portugal', 'Romania', 'Russia',\n",
       "       'Rwanda*', 'Saudi Arabia', 'Senegal', 'Serbia', 'Sierra Leone',\n",
       "       'Singapore', 'Slovakia', 'Slovenia', 'South Africa', 'South Korea',\n",
       "       'Spain', 'Sri Lanka', 'Sweden', 'Switzerland',\n",
       "       'Taiwan Province of China', 'Tajikistan', 'Tanzania', 'Thailand',\n",
       "       'Togo', 'Tunisia', 'Turkey', 'Turkmenistan*', 'Uganda', 'Ukraine',\n",
       "       'United Arab Emirates', 'United Kingdom', 'United States',\n",
       "       'Uruguay', 'Uzbekistan', 'Venezuela', 'Vietnam', 'Yemen*',\n",
       "       'Zambia', 'Zimbabwe', 'xx'], dtype=object)"
      ]
     },
     "execution_count": 8,
     "metadata": {},
     "output_type": "execute_result"
    }
   ],
   "source": [
    "countries = df['Country'].unique()\n",
    "countries.sort()\n",
    "countries"
   ]
  },
  {
   "cell_type": "code",
   "execution_count": 4,
   "id": "c6a359cf-b3bf-4edf-9f33-030babb21fcb",
   "metadata": {
    "tags": []
   },
   "outputs": [
    {
     "data": {
      "text/html": [
       "<div>\n",
       "<style scoped>\n",
       "    .dataframe tbody tr th:only-of-type {\n",
       "        vertical-align: middle;\n",
       "    }\n",
       "\n",
       "    .dataframe tbody tr th {\n",
       "        vertical-align: top;\n",
       "    }\n",
       "\n",
       "    .dataframe thead th {\n",
       "        text-align: right;\n",
       "    }\n",
       "</style>\n",
       "<table border=\"1\" class=\"dataframe\">\n",
       "  <thead>\n",
       "    <tr style=\"text-align: right;\">\n",
       "      <th></th>\n",
       "      <th>RANK</th>\n",
       "      <th>Country</th>\n",
       "      <th>Happiness score</th>\n",
       "      <th>Whisker-high</th>\n",
       "      <th>Whisker-low</th>\n",
       "      <th>Dystopia (1.83) + residual</th>\n",
       "      <th>Explained by: GDP per capita</th>\n",
       "      <th>Explained by: Social support</th>\n",
       "      <th>Explained by: Healthy life expectancy</th>\n",
       "      <th>Explained by: Freedom to make life choices</th>\n",
       "      <th>Explained by: Generosity</th>\n",
       "      <th>Explained by: Perceptions of corruption</th>\n",
       "    </tr>\n",
       "  </thead>\n",
       "  <tbody>\n",
       "    <tr>\n",
       "      <th>65</th>\n",
       "      <td>66</td>\n",
       "      <td>Colombia</td>\n",
       "      <td>5,781</td>\n",
       "      <td>5,903</td>\n",
       "      <td>5,659</td>\n",
       "      <td>1,971</td>\n",
       "      <td>1,452</td>\n",
       "      <td>0,929</td>\n",
       "      <td>0,720</td>\n",
       "      <td>0,545</td>\n",
       "      <td>0,087</td>\n",
       "      <td>0,077</td>\n",
       "    </tr>\n",
       "  </tbody>\n",
       "</table>\n",
       "</div>"
      ],
      "text/plain": [
       "    RANK   Country Happiness score Whisker-high Whisker-low  \\\n",
       "65    66  Colombia           5,781        5,903       5,659   \n",
       "\n",
       "   Dystopia (1.83) + residual Explained by: GDP per capita  \\\n",
       "65                      1,971                        1,452   \n",
       "\n",
       "   Explained by: Social support Explained by: Healthy life expectancy  \\\n",
       "65                        0,929                                 0,720   \n",
       "\n",
       "   Explained by: Freedom to make life choices Explained by: Generosity  \\\n",
       "65                                      0,545                    0,087   \n",
       "\n",
       "   Explained by: Perceptions of corruption  \n",
       "65                                   0,077  "
      ]
     },
     "execution_count": 4,
     "metadata": {},
     "output_type": "execute_result"
    }
   ],
   "source": [
    "colombia_rank = df['Country'] == 'Colombia'\n",
    "df.loc[colombia_rank,:]"
   ]
  },
  {
   "cell_type": "code",
   "execution_count": 6,
   "id": "5c2f9bec-4b51-48f1-bd8d-a835bcafb083",
   "metadata": {
    "tags": []
   },
   "outputs": [
    {
     "data": {
      "text/html": [
       "<div>\n",
       "<style scoped>\n",
       "    .dataframe tbody tr th:only-of-type {\n",
       "        vertical-align: middle;\n",
       "    }\n",
       "\n",
       "    .dataframe tbody tr th {\n",
       "        vertical-align: top;\n",
       "    }\n",
       "\n",
       "    .dataframe thead th {\n",
       "        text-align: right;\n",
       "    }\n",
       "</style>\n",
       "<table border=\"1\" class=\"dataframe\">\n",
       "  <thead>\n",
       "    <tr style=\"text-align: right;\">\n",
       "      <th></th>\n",
       "      <th>RANK</th>\n",
       "      <th>Country</th>\n",
       "      <th>Happiness score</th>\n",
       "      <th>Whisker-high</th>\n",
       "      <th>Whisker-low</th>\n",
       "      <th>Dystopia (1.83) + residual</th>\n",
       "      <th>Explained by: GDP per capita</th>\n",
       "      <th>Explained by: Social support</th>\n",
       "      <th>Explained by: Healthy life expectancy</th>\n",
       "      <th>Explained by: Freedom to make life choices</th>\n",
       "      <th>Explained by: Generosity</th>\n",
       "      <th>Explained by: Perceptions of corruption</th>\n",
       "    </tr>\n",
       "  </thead>\n",
       "  <tbody>\n",
       "    <tr>\n",
       "      <th>13</th>\n",
       "      <td>14</td>\n",
       "      <td>Germany</td>\n",
       "      <td>7,034</td>\n",
       "      <td>7,122</td>\n",
       "      <td>6,947</td>\n",
       "      <td>2,142</td>\n",
       "      <td>1,924</td>\n",
       "      <td>1,088</td>\n",
       "      <td>0,776</td>\n",
       "      <td>0,585</td>\n",
       "      <td>0,163</td>\n",
       "      <td>0,358</td>\n",
       "    </tr>\n",
       "  </tbody>\n",
       "</table>\n",
       "</div>"
      ],
      "text/plain": [
       "    RANK  Country Happiness score Whisker-high Whisker-low  \\\n",
       "13    14  Germany           7,034        7,122       6,947   \n",
       "\n",
       "   Dystopia (1.83) + residual Explained by: GDP per capita  \\\n",
       "13                      2,142                        1,924   \n",
       "\n",
       "   Explained by: Social support Explained by: Healthy life expectancy  \\\n",
       "13                        1,088                                 0,776   \n",
       "\n",
       "   Explained by: Freedom to make life choices Explained by: Generosity  \\\n",
       "13                                      0,585                    0,163   \n",
       "\n",
       "   Explained by: Perceptions of corruption  \n",
       "13                                   0,358  "
      ]
     },
     "execution_count": 6,
     "metadata": {},
     "output_type": "execute_result"
    }
   ],
   "source": [
    "germany_rank = df['Country'] == 'Germany'\n",
    "df.loc[germany_rank,:]"
   ]
  }
 ],
 "metadata": {
  "kernelspec": {
   "display_name": "Python 3 (ipykernel)",
   "language": "python",
   "name": "python3"
  },
  "language_info": {
   "codemirror_mode": {
    "name": "ipython",
    "version": 3
   },
   "file_extension": ".py",
   "mimetype": "text/x-python",
   "name": "python",
   "nbconvert_exporter": "python",
   "pygments_lexer": "ipython3",
   "version": "3.11.3"
  }
 },
 "nbformat": 4,
 "nbformat_minor": 5
}
